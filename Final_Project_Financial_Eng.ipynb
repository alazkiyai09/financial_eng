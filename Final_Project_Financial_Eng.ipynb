{
  "nbformat": 4,
  "nbformat_minor": 0,
  "metadata": {
    "colab": {
      "name": "Final_Project_Financial_Eng",
      "provenance": [],
      "collapsed_sections": []
    },
    "kernelspec": {
      "name": "python3",
      "display_name": "Python 3"
    }
  },
  "cells": [
    {
      "cell_type": "code",
      "metadata": {
        "id": "-Ku8-vGlHdTS",
        "colab_type": "code",
        "colab": {}
      },
      "source": [
        "from sklearn import neighbors\n",
        "from sklearn.model_selection import GridSearchCV\n",
        "from sklearn.preprocessing import MinMaxScaler\n",
        "import pandas as pd\n",
        "import numpy as np\n",
        "import matplotlib.pyplot as plt\n",
        "from keras.models import Sequential\n",
        "from keras.layers import Dense\n",
        "from keras.layers import LSTM\n",
        "from keras.layers import Dropout\n",
        "from sklearn.preprocessing import MinMaxScaler\n",
        "from sklearn.svm import SVR\n",
        "import time\n",
        "from pandas import ExcelWriter\n",
        "from pandas import ExcelFile"
      ],
      "execution_count": 2,
      "outputs": []
    },
    {
      "cell_type": "markdown",
      "metadata": {
        "id": "_kYDA5BCO_b9",
        "colab_type": "text"
      },
      "source": [
        "Function to proses dataset"
      ]
    },
    {
      "cell_type": "code",
      "metadata": {
        "id": "jha8pP3iO-CG",
        "colab_type": "code",
        "colab": {}
      },
      "source": [
        "def preprocessing_data(filename1, filename2):\n",
        "    start_time = time.time()\n",
        "    df = pd.read_csv(filename1, delimiter=';', names = ['Date', 'Price','Open','High','Low','Change'])\n",
        "\n",
        "    dataset_train = df\n",
        "    training_set = dataset_train.iloc[:, 1:2].values\n",
        "    training_set_scaled = training_set\n",
        "    X_train = []\n",
        "    y_train = []\n",
        "    for i in range(32, len(training_set)):\n",
        "        X_train.append(training_set_scaled[i-32, 0])\n",
        "        y_train.append(training_set_scaled[i, 0])\n",
        "    X_train, y_train = np.array(X_train), np.array(y_train)\n",
        "    X_train, y_train = X_train.reshape(-1, 1), y_train.reshape(-1, 1)\n",
        "\n",
        "    dataset_test = pd.read_csv(filename2, delimiter=';', names = ['Date', 'Price','Open','High','Low','Change'])\n",
        "    real_price = dataset_test.iloc[:, 1:2].values\n",
        "    dataset_total = pd.concat((dataset_train['Price'], dataset_test['Price']), axis = 0)\n",
        "    inputs = dataset_total[len(dataset_total) - len(dataset_test)- 32:].values\n",
        "    inputs = inputs.reshape(-1,1)\n",
        "    X_test = []\n",
        "    for i in range(32, 64):\n",
        "        X_test.append(inputs[i - 32, 0])\n",
        "    X_test = np.array(X_test)\n",
        "    X_test = X_test.reshape(-1, 1)\n",
        "\n",
        "    total_time = time.time() - start_time\n",
        "    return X_train, y_train, X_test, real_price, dataset_total, training_set, total_time"
      ],
      "execution_count": 3,
      "outputs": []
    },
    {
      "cell_type": "markdown",
      "metadata": {
        "id": "vjXSdfvcro1k",
        "colab_type": "text"
      },
      "source": [
        "Function to predict with KNN"
      ]
    },
    {
      "cell_type": "code",
      "metadata": {
        "id": "62CM58NEPFDR",
        "colab_type": "code",
        "colab": {}
      },
      "source": [
        "def KNN_Prediction(X_train, y_train, X_test, real_price, dataset_total, training_set, total_time):\n",
        "    start_time = time.time()\n",
        "    X_train, y_train = X_train.reshape(-1, 1), y_train.reshape(-1, 1)\n",
        "    X_test = X_test.reshape(-1, 1)\n",
        "    params = {'n_neighbors':[2,3,5,7,9]}\n",
        "    knn = neighbors.KNeighborsRegressor()\n",
        "    model = GridSearchCV(knn, params, cv=3)\n",
        "    model.fit(X_train,y_train)\n",
        "    training_set_scaled = training_set\n",
        "    knn_prediction = model.predict(X_test)\n",
        "    rms=np.sqrt(np.mean(np.power((np.array(real_price)-np.array(knn_prediction)),2)))\n",
        "    data_total = dataset_total.values\n",
        "    data_total = data_total.reshape(-1,1)\n",
        "    predicted_price = knn_prediction\n",
        "    total_time = total_time + time.time() - start_time\n",
        "\n",
        "    return predicted_price, rms, total_time"
      ],
      "execution_count": 4,
      "outputs": []
    },
    {
      "cell_type": "markdown",
      "metadata": {
        "id": "9wWp2ugArmDl",
        "colab_type": "text"
      },
      "source": [
        "Function to predict with SVM"
      ]
    },
    {
      "cell_type": "code",
      "metadata": {
        "id": "Kwx7yO_sPKhR",
        "colab_type": "code",
        "colab": {}
      },
      "source": [
        "def SVM_Prediction(X_train, y_train, X_test, real_price, dataset_total, training_set, total_time):\n",
        "    start_time = time.time()\n",
        "    X_train, y_train = X_train.reshape(-1, 1), y_train.reshape(-1, 1)\n",
        "    X_test = X_test.reshape(-1, 1)\n",
        "    svr_rbf = SVR(kernel='rbf', C=1e2, gamma=0.00001)\n",
        "    svr_rbf.fit(X_train, y_train)\n",
        "    svm_prediction = svr_rbf.predict(X_test)\n",
        "    svm_prediction = svm_prediction.reshape(-1, 1)\n",
        "    rms=np.sqrt(np.mean(np.power((np.array(real_price)-np.array(svm_prediction)),2)))\n",
        "    data_total = dataset_total.values\n",
        "    data_total = data_total.reshape(-1,1)\n",
        "    predicted_price = svm_prediction\n",
        "    total_time = total_time + time.time() - start_time\n",
        "\n",
        "    return predicted_price, rms, total_time"
      ],
      "execution_count": 5,
      "outputs": []
    },
    {
      "cell_type": "markdown",
      "metadata": {
        "id": "J6lRMEY2rgw1",
        "colab_type": "text"
      },
      "source": [
        "Function to predict with LSTM"
      ]
    },
    {
      "cell_type": "code",
      "metadata": {
        "id": "1s81Rj_5PN8B",
        "colab_type": "code",
        "colab": {}
      },
      "source": [
        "def LSTM_Prediction(filename1, filename2):\n",
        "    start_time = time.time()\n",
        "    df = pd.read_csv(filename1, delimiter=';', names = ['Date', 'Price','Open','High','Low','Change'])\n",
        "    data = df\n",
        "\n",
        "    dataset_train = data\n",
        "    training_set = dataset_train.iloc[:, 1:2].values\n",
        "\n",
        "    sc = MinMaxScaler(feature_range = (0, 1))\n",
        "    training_set_scaled = sc.fit_transform(training_set)\n",
        "\n",
        "    X_train = []\n",
        "    y_train = []\n",
        "    for i in range(32, len(training_set)):\n",
        "        X_train.append(training_set_scaled[i-32:i, 0])\n",
        "        y_train.append(training_set_scaled[i, 0])\n",
        "    X_train, y_train = np.array(X_train), np.array(y_train)\n",
        "\n",
        "    X_train = np.reshape(X_train, (X_train.shape[0], X_train.shape[1], 1))\n",
        "\n",
        "    # Initialising the RNN\n",
        "    regressor = Sequential()\n",
        "\n",
        "    # Adding the first LSTM layer and some Dropout regularisation\n",
        "    regressor.add(LSTM(units = 70, return_sequences = True, input_shape = (X_train.shape[1], 1)))\n",
        "    regressor.add(Dropout(0.2))\n",
        "\n",
        "    # Adding a second LSTM layer and some Dropout regularisation\n",
        "    regressor.add(LSTM(units = 70, return_sequences = True))\n",
        "    regressor.add(Dropout(0.2))\n",
        "\n",
        "    # Adding a third LSTM layer and some Dropout regularisation\n",
        "    regressor.add(LSTM(units = 50, activation='sigmoid'))\n",
        "    regressor.add(Dropout(0.2))\n",
        "\n",
        "    # Adding the output layer\n",
        "    regressor.add(Dense(units = 1))\n",
        "\n",
        "    # Compiling the RNN\n",
        "    regressor.compile(optimizer = 'adam', loss = 'mean_squared_error')\n",
        "\n",
        "    # Fitting the RNN to the Training set\n",
        "    regressor.fit(X_train, y_train, epochs = 10, batch_size = 30)\n",
        "\n",
        "    dataset_test = pd.read_csv(filename2, delimiter=';', names = ['Date', 'Price','Open','High','Low','Change'])\n",
        "    real_price = dataset_test.iloc[:, 1:2].values\n",
        "\n",
        "    dataset_total = pd.concat((dataset_train['Price'], dataset_test['Price']), axis = 0)\n",
        "    inputs = dataset_total[len(dataset_total) - len(dataset_test)- 32:].values\n",
        "    inputs = inputs.reshape(-1,1)\n",
        "    inputs = sc.transform(inputs)\n",
        "\n",
        "    X_test = []\n",
        "    for i in range(32, 64):\n",
        "        X_test.append(inputs[i - 32:i, 0])\n",
        "    X_test = np.array(X_test)\n",
        "    X_test = np.reshape(X_test, (X_test.shape[0], X_test.shape[1], 1))\n",
        "    predicted_price = regressor.predict(X_test)\n",
        "    predicted_price = sc.inverse_transform(predicted_price)\n",
        "    data_total = dataset_total.values\n",
        "    data_total = data_total.reshape(-1,1)\n",
        "    rms=np.sqrt(np.mean(np.power((np.array(predicted_price)-np.array(real_price)),2)))\n",
        "    total_time = time.time() - start_time\n",
        "\n",
        "    return predicted_price, rms, real_price, total_time"
      ],
      "execution_count": 6,
      "outputs": []
    },
    {
      "cell_type": "markdown",
      "metadata": {
        "id": "PNZ6Dgjlrb8x",
        "colab_type": "text"
      },
      "source": [
        "Function to plot the graph"
      ]
    },
    {
      "cell_type": "code",
      "metadata": {
        "id": "llcwy1iOPZOW",
        "colab_type": "code",
        "colab": {}
      },
      "source": [
        "def Plot_Graph(data_total, predicted_price1, predicted_price2, predicted_price3, label_name):\n",
        "    plt.plot(predicted_price1, color = 'blue', label = 'Predicted KNN '+ label_name)\n",
        "    plt.plot(predicted_price2, color = 'green', label = 'Predicted SVM '+ label_name)\n",
        "    plt.plot(predicted_price3, color = 'yellow', label = 'Predicted LSTM '+ label_name)\n",
        "    plt.plot(data_total, color = 'red', label = 'Real ' + label_name)\n",
        "    plt.title(label_name + ' Price Prediction')\n",
        "    plt.xlabel('Time')\n",
        "    plt.ylabel(label_name + ' Price')\n",
        "    plt.legend()\n",
        "    plt.show()"
      ],
      "execution_count": 7,
      "outputs": []
    },
    {
      "cell_type": "markdown",
      "metadata": {
        "id": "s08WAruKrYUw",
        "colab_type": "text"
      },
      "source": [
        "Function to show the volatility"
      ]
    },
    {
      "cell_type": "code",
      "metadata": {
        "id": "5Sa-LfZ_Pf8z",
        "colab_type": "code",
        "colab": {}
      },
      "source": [
        "def Volatility(filename1, filename2, filename3, filename4):\n",
        "    df1 = pd.read_csv(filename1, delimiter=';', names = ['Date', 'Price','Open','High','Low','Change'])\n",
        "    data1 = df1.sort_index(ascending=False, axis=0)\n",
        "    df2 = pd.read_csv(filename2, delimiter=';', names = ['Date', 'Price','Open','High','Low','Change'])\n",
        "    data2 = df2.sort_index(ascending=False, axis=0)\n",
        "    df3 = pd.read_csv(filename3, delimiter=';', names = ['Date', 'Price','Open','High','Low','Change'])\n",
        "    data3 = df3.sort_index(ascending=False, axis=0)\n",
        "    df4 = pd.read_csv(filename4, delimiter=';', names = ['Date', 'Price','Open','High','Low','Change'])\n",
        "    data4 = df4.sort_index(ascending=False, axis=0)\n",
        "    new_data = pd.DataFrame(index=range(0, 365),columns=['Change 1', 'Change 2', 'Change 3'])\n",
        "    data_snp = pd.DataFrame(index=range(0, 250),columns=['Change 4'])\n",
        "    for i in range(0,365):\n",
        "        new_data['Change 1'][i] = float(data1['Change'][len(data1) - 365 + i-1])\n",
        "        new_data['Change 2'][i] = float(data2['Change'][len(data2) - 365 + i-1])\n",
        "        new_data['Change 3'][i] = float(data3['Change'][len(data3) - 365 + i-1])\n",
        "\n",
        "    for i in range(0, 250):\n",
        "        data_snp['Change 4'][i] = float(data4['Change'][i])\n",
        "\n",
        "    bitcoin = np.array(new_data['Change 1'])\n",
        "    etherum = np.array(new_data['Change 2'])\n",
        "    xrp = np.array(new_data['Change 3'])\n",
        "    snp500 = np.array(data_snp['Change 4'])\n",
        "    std_bitcoin = np.std(bitcoin)*np.sqrt(len(bitcoin))\n",
        "    std_etherum = np.std(etherum)*np.sqrt(len(etherum))\n",
        "    std_xrp = np.std(xrp)*np.sqrt(len(xrp))\n",
        "    std_snp500 = np.std(snp500)*np.sqrt(len(snp500))\n",
        "\n",
        "    return std_bitcoin, std_etherum, std_xrp, std_snp500"
      ],
      "execution_count": 8,
      "outputs": []
    },
    {
      "cell_type": "markdown",
      "metadata": {
        "id": "A5Cv_iekrSc2",
        "colab_type": "text"
      },
      "source": [
        "Function to show RMSE of each prediction"
      ]
    },
    {
      "cell_type": "code",
      "metadata": {
        "id": "_cy3kHZmPi0E",
        "colab_type": "code",
        "colab": {}
      },
      "source": [
        "def Comparison_Data(filename, data_actual, predicted_price1, predicted_price2, predicted_price3, label_name):\n",
        "    df = pd.read_csv(filename, delimiter=';', names = ['Date', 'Price','Open','High','Low','Change'])\n",
        "    data_comparison = pd.DataFrame(index=range(0,32),columns=['Date', 'Actual Price '+label_name, 'Price KNN', 'RMSE KNN', 'Price SVM', 'RMSE SVM', 'Price LSTM', 'RMSE LSTM'])\n",
        "    predicted_price1, predicted_price2, predicted_price3, data_actual = predicted_price1.ravel(), predicted_price2.ravel(), predicted_price3.ravel(), data_actual.ravel()\n",
        "    for i in range(0, len(data_comparison)):\n",
        "        data_comparison['Date'][i] = df['Date'][i]\n",
        "        data_comparison['Actual Price '+label_name][i] = data_actual[i]\n",
        "        data_comparison['Price KNN'][i] = predicted_price1[i]\n",
        "        data_comparison['RMSE KNN'][i] = np.sqrt(np.mean(np.power((np.array(predicted_price1[i])-np.array(data_actual[i])),2)))\n",
        "        data_comparison['Price SVM'][i] = predicted_price2[i]\n",
        "        data_comparison['RMSE SVM'][i] = np.sqrt(np.mean(np.power((np.array(predicted_price2[i])-np.array(data_actual[i])),2)))\n",
        "        data_comparison['Price LSTM'][i] = predicted_price3[i]\n",
        "        data_comparison['RMSE LSTM'][i] = np.sqrt(np.mean(np.power((np.array(predicted_price3[i])-np.array(data_actual[i])),2)))\n",
        "    data_comparison.to_excel('Data Comparison '+label_name+'.xlsx', index=False)\n",
        "    return data_comparison"
      ],
      "execution_count": 9,
      "outputs": []
    },
    {
      "cell_type": "markdown",
      "metadata": {
        "id": "Y9Pn86NCrNm0",
        "colab_type": "text"
      },
      "source": [
        "Import all dataset from github"
      ]
    },
    {
      "cell_type": "code",
      "metadata": {
        "id": "YgajC2SFHksr",
        "colab_type": "code",
        "colab": {
          "base_uri": "https://localhost:8080/",
          "height": 1000
        },
        "outputId": "ac912ac9-a808-4be0-fe00-52959b300385"
      },
      "source": [
        "!wget -O Bitcoin_Historical_Data_Test.csv https://raw.githubusercontent.com/alazkiyai09/financial_eng/master/Bitcoin%20Historical%20Data%20Test.csv\n",
        "!wget -O Bitcoin_Historical_Data_Train.csv https://raw.githubusercontent.com/alazkiyai09/financial_eng/master/Bitcoin%20Historical%20Data%20Train.csv\n",
        "!wget -O Etherum_Historical_Data_Train.csv https://raw.githubusercontent.com/alazkiyai09/financial_eng/master/Ethereum%20Historical%20Data%20Train.csv\n",
        "!wget -O Etherum_Historical_Data_Test.csv https://raw.githubusercontent.com/alazkiyai09/financial_eng/master/Etherum%20Historical%20Data%20Test.csv\n",
        "!wget -O XRP_Historical_Data_Test.csv https://raw.githubusercontent.com/alazkiyai09/financial_eng/master/XRP%20Historical%20Data%20Test.csv\n",
        "!wget -O XRP_Historical_Data_Train.csv https://raw.githubusercontent.com/alazkiyai09/financial_eng/master/XRP%20Historical%20Data%20Train.csv\n",
        "!wget -O SnP500_Historical_Data.csv https://raw.githubusercontent.com/alazkiyai09/financial_eng/master/SnP500%20Historical%20Data%20Train.csv"
      ],
      "execution_count": 11,
      "outputs": [
        {
          "output_type": "stream",
          "text": [
            "--2020-08-25 06:51:08--  https://raw.githubusercontent.com/alazkiyai09/financial_eng/master/Bitcoin%20Historical%20Data%20Test.csv\n",
            "Resolving raw.githubusercontent.com (raw.githubusercontent.com)... 151.101.0.133, 151.101.64.133, 151.101.128.133, ...\n",
            "Connecting to raw.githubusercontent.com (raw.githubusercontent.com)|151.101.0.133|:443... connected.\n",
            "HTTP request sent, awaiting response... 200 OK\n",
            "Length: 1460 (1.4K) [text/plain]\n",
            "Saving to: ‘Bitcoin_Historical_Data_Test.csv’\n",
            "\n",
            "Bitcoin_Historical_ 100%[===================>]   1.43K  --.-KB/s    in 0s      \n",
            "\n",
            "2020-08-25 06:51:08 (19.5 MB/s) - ‘Bitcoin_Historical_Data_Test.csv’ saved [1460/1460]\n",
            "\n",
            "--2020-08-25 06:51:08--  https://raw.githubusercontent.com/alazkiyai09/financial_eng/master/Bitcoin%20Historical%20Data%20Train.csv\n",
            "Resolving raw.githubusercontent.com (raw.githubusercontent.com)... 151.101.0.133, 151.101.64.133, 151.101.128.133, ...\n",
            "Connecting to raw.githubusercontent.com (raw.githubusercontent.com)|151.101.0.133|:443... connected.\n",
            "HTTP request sent, awaiting response... 200 OK\n",
            "Length: 90218 (88K) [text/plain]\n",
            "Saving to: ‘Bitcoin_Historical_Data_Train.csv’\n",
            "\n",
            "Bitcoin_Historical_ 100%[===================>]  88.10K  --.-KB/s    in 0.03s   \n",
            "\n",
            "2020-08-25 06:51:09 (2.76 MB/s) - ‘Bitcoin_Historical_Data_Train.csv’ saved [90218/90218]\n",
            "\n",
            "--2020-08-25 06:51:09--  https://raw.githubusercontent.com/alazkiyai09/financial_eng/master/Ethereum%20Historical%20Data%20Train.csv\n",
            "Resolving raw.githubusercontent.com (raw.githubusercontent.com)... 151.101.0.133, 151.101.64.133, 151.101.128.133, ...\n",
            "Connecting to raw.githubusercontent.com (raw.githubusercontent.com)|151.101.0.133|:443... connected.\n",
            "HTTP request sent, awaiting response... 200 OK\n",
            "Length: 55890 (55K) [text/plain]\n",
            "Saving to: ‘Etherum_Historical_Data_Train.csv’\n",
            "\n",
            "Etherum_Historical_ 100%[===================>]  54.58K  --.-KB/s    in 0.03s   \n",
            "\n",
            "2020-08-25 06:51:10 (1.98 MB/s) - ‘Etherum_Historical_Data_Train.csv’ saved [55890/55890]\n",
            "\n",
            "--2020-08-25 06:51:10--  https://raw.githubusercontent.com/alazkiyai09/financial_eng/master/Etherum%20Historical%20Data%20Test.csv\n",
            "Resolving raw.githubusercontent.com (raw.githubusercontent.com)... 151.101.0.133, 151.101.64.133, 151.101.128.133, ...\n",
            "Connecting to raw.githubusercontent.com (raw.githubusercontent.com)|151.101.0.133|:443... connected.\n",
            "HTTP request sent, awaiting response... 200 OK\n",
            "Length: 1459 (1.4K) [text/plain]\n",
            "Saving to: ‘Etherum_Historical_Data_Test.csv’\n",
            "\n",
            "Etherum_Historical_ 100%[===================>]   1.42K  --.-KB/s    in 0s      \n",
            "\n",
            "2020-08-25 06:51:10 (20.9 MB/s) - ‘Etherum_Historical_Data_Test.csv’ saved [1459/1459]\n",
            "\n",
            "--2020-08-25 06:51:10--  https://raw.githubusercontent.com/alazkiyai09/financial_eng/master/XRP%20Historical%20Data%20Test.csv\n",
            "Resolving raw.githubusercontent.com (raw.githubusercontent.com)... 151.101.0.133, 151.101.64.133, 151.101.128.133, ...\n",
            "Connecting to raw.githubusercontent.com (raw.githubusercontent.com)|151.101.0.133|:443... connected.\n",
            "HTTP request sent, awaiting response... 200 OK\n",
            "Length: 1584 (1.5K) [text/plain]\n",
            "Saving to: ‘XRP_Historical_Data_Test.csv’\n",
            "\n",
            "XRP_Historical_Data 100%[===================>]   1.55K  --.-KB/s    in 0s      \n",
            "\n",
            "2020-08-25 06:51:10 (21.0 MB/s) - ‘XRP_Historical_Data_Test.csv’ saved [1584/1584]\n",
            "\n",
            "--2020-08-25 06:51:10--  https://raw.githubusercontent.com/alazkiyai09/financial_eng/master/XRP%20Historical%20Data%20Train.csv\n",
            "Resolving raw.githubusercontent.com (raw.githubusercontent.com)... 151.101.0.133, 151.101.64.133, 151.101.128.133, ...\n",
            "Connecting to raw.githubusercontent.com (raw.githubusercontent.com)|151.101.0.133|:443... connected.\n",
            "HTTP request sent, awaiting response... 200 OK\n",
            "Length: 83128 (81K) [text/plain]\n",
            "Saving to: ‘XRP_Historical_Data_Train.csv’\n",
            "\n",
            "XRP_Historical_Data 100%[===================>]  81.18K  --.-KB/s    in 0.03s   \n",
            "\n",
            "2020-08-25 06:51:11 (2.64 MB/s) - ‘XRP_Historical_Data_Train.csv’ saved [83128/83128]\n",
            "\n",
            "--2020-08-25 06:51:11--  https://raw.githubusercontent.com/alazkiyai09/financial_eng/master/SnP500%20Historical%20Data%20Train.csv\n",
            "Resolving raw.githubusercontent.com (raw.githubusercontent.com)... 151.101.0.133, 151.101.64.133, 151.101.128.133, ...\n",
            "Connecting to raw.githubusercontent.com (raw.githubusercontent.com)|151.101.0.133|:443... connected.\n",
            "HTTP request sent, awaiting response... 200 OK\n",
            "Length: 12368 (12K) [text/plain]\n",
            "Saving to: ‘SnP500_Historical_Data.csv’\n",
            "\n",
            "SnP500_Historical_D 100%[===================>]  12.08K  --.-KB/s    in 0s      \n",
            "\n",
            "2020-08-25 06:51:11 (99.1 MB/s) - ‘SnP500_Historical_Data.csv’ saved [12368/12368]\n",
            "\n"
          ],
          "name": "stdout"
        }
      ]
    },
    {
      "cell_type": "markdown",
      "metadata": {
        "id": "rjyuaSSxquRL",
        "colab_type": "text"
      },
      "source": [
        "Data Train of Bitcoin"
      ]
    },
    {
      "cell_type": "code",
      "metadata": {
        "id": "perwXcJMJ_bm",
        "colab_type": "code",
        "colab": {
          "base_uri": "https://localhost:8080/",
          "height": 206
        },
        "outputId": "38a94d3c-39a4-458d-f5b2-52172763d561"
      },
      "source": [
        "df = pd.read_csv(\"Bitcoin_Historical_Data_Train.csv\", delimiter= ';', names = ['Date', 'Price','Open','High','Low','Change'])\n",
        "df.head(5)"
      ],
      "execution_count": 12,
      "outputs": [
        {
          "output_type": "execute_result",
          "data": {
            "text/html": [
              "<div>\n",
              "<style scoped>\n",
              "    .dataframe tbody tr th:only-of-type {\n",
              "        vertical-align: middle;\n",
              "    }\n",
              "\n",
              "    .dataframe tbody tr th {\n",
              "        vertical-align: top;\n",
              "    }\n",
              "\n",
              "    .dataframe thead th {\n",
              "        text-align: right;\n",
              "    }\n",
              "</style>\n",
              "<table border=\"1\" class=\"dataframe\">\n",
              "  <thead>\n",
              "    <tr style=\"text-align: right;\">\n",
              "      <th></th>\n",
              "      <th>Date</th>\n",
              "      <th>Price</th>\n",
              "      <th>Open</th>\n",
              "      <th>High</th>\n",
              "      <th>Low</th>\n",
              "      <th>Change</th>\n",
              "    </tr>\n",
              "  </thead>\n",
              "  <tbody>\n",
              "    <tr>\n",
              "      <th>0</th>\n",
              "      <td>01/01/2014</td>\n",
              "      <td>815.9</td>\n",
              "      <td>805.9</td>\n",
              "      <td>829.9</td>\n",
              "      <td>771.0</td>\n",
              "      <td>1.24</td>\n",
              "    </tr>\n",
              "    <tr>\n",
              "      <th>1</th>\n",
              "      <td>02/01/2014</td>\n",
              "      <td>856.9</td>\n",
              "      <td>815.9</td>\n",
              "      <td>886.2</td>\n",
              "      <td>810.5</td>\n",
              "      <td>5.02</td>\n",
              "    </tr>\n",
              "    <tr>\n",
              "      <th>2</th>\n",
              "      <td>03/01/2014</td>\n",
              "      <td>884.3</td>\n",
              "      <td>856.9</td>\n",
              "      <td>888.2</td>\n",
              "      <td>839.4</td>\n",
              "      <td>3.19</td>\n",
              "    </tr>\n",
              "    <tr>\n",
              "      <th>3</th>\n",
              "      <td>04/01/2014</td>\n",
              "      <td>924.7</td>\n",
              "      <td>884.3</td>\n",
              "      <td>932.2</td>\n",
              "      <td>848.3</td>\n",
              "      <td>4.57</td>\n",
              "    </tr>\n",
              "    <tr>\n",
              "      <th>4</th>\n",
              "      <td>05/01/2014</td>\n",
              "      <td>1014.7</td>\n",
              "      <td>924.7</td>\n",
              "      <td>1029.9</td>\n",
              "      <td>911.4</td>\n",
              "      <td>9.74</td>\n",
              "    </tr>\n",
              "  </tbody>\n",
              "</table>\n",
              "</div>"
            ],
            "text/plain": [
              "         Date   Price   Open    High    Low  Change\n",
              "0  01/01/2014   815.9  805.9   829.9  771.0    1.24\n",
              "1  02/01/2014   856.9  815.9   886.2  810.5    5.02\n",
              "2  03/01/2014   884.3  856.9   888.2  839.4    3.19\n",
              "3  04/01/2014   924.7  884.3   932.2  848.3    4.57\n",
              "4  05/01/2014  1014.7  924.7  1029.9  911.4    9.74"
            ]
          },
          "metadata": {
            "tags": []
          },
          "execution_count": 12
        }
      ]
    },
    {
      "cell_type": "markdown",
      "metadata": {
        "id": "X64sg1Xyqx2_",
        "colab_type": "text"
      },
      "source": [
        "Data Test of Bitcoin"
      ]
    },
    {
      "cell_type": "code",
      "metadata": {
        "id": "V-3y9H5LOjNc",
        "colab_type": "code",
        "colab": {
          "base_uri": "https://localhost:8080/",
          "height": 206
        },
        "outputId": "1312b4e3-c46d-445d-a13f-ea8bec2a34a3"
      },
      "source": [
        "df = pd.read_csv(\"Bitcoin_Historical_Data_Test.csv\", delimiter=';', names = ['Date', 'Price','Open','High','Low','Change'])\n",
        "df.head(5)"
      ],
      "execution_count": 13,
      "outputs": [
        {
          "output_type": "execute_result",
          "data": {
            "text/html": [
              "<div>\n",
              "<style scoped>\n",
              "    .dataframe tbody tr th:only-of-type {\n",
              "        vertical-align: middle;\n",
              "    }\n",
              "\n",
              "    .dataframe tbody tr th {\n",
              "        vertical-align: top;\n",
              "    }\n",
              "\n",
              "    .dataframe thead th {\n",
              "        text-align: right;\n",
              "    }\n",
              "</style>\n",
              "<table border=\"1\" class=\"dataframe\">\n",
              "  <thead>\n",
              "    <tr style=\"text-align: right;\">\n",
              "      <th></th>\n",
              "      <th>Date</th>\n",
              "      <th>Price</th>\n",
              "      <th>Open</th>\n",
              "      <th>High</th>\n",
              "      <th>Low</th>\n",
              "      <th>Change</th>\n",
              "    </tr>\n",
              "  </thead>\n",
              "  <tbody>\n",
              "    <tr>\n",
              "      <th>0</th>\n",
              "      <td>10/01/2019</td>\n",
              "      <td>8302.7</td>\n",
              "      <td>8285.0</td>\n",
              "      <td>8486.2</td>\n",
              "      <td>8187.9</td>\n",
              "      <td>0.22</td>\n",
              "    </tr>\n",
              "    <tr>\n",
              "      <th>1</th>\n",
              "      <td>10/02/2019</td>\n",
              "      <td>8364.1</td>\n",
              "      <td>8302.7</td>\n",
              "      <td>8374.0</td>\n",
              "      <td>8167.7</td>\n",
              "      <td>0.74</td>\n",
              "    </tr>\n",
              "    <tr>\n",
              "      <th>2</th>\n",
              "      <td>10/03/2019</td>\n",
              "      <td>8226.9</td>\n",
              "      <td>8363.6</td>\n",
              "      <td>8391.7</td>\n",
              "      <td>8090.1</td>\n",
              "      <td>-1.64</td>\n",
              "    </tr>\n",
              "    <tr>\n",
              "      <th>3</th>\n",
              "      <td>10/04/2019</td>\n",
              "      <td>8148.1</td>\n",
              "      <td>8227.6</td>\n",
              "      <td>8233.6</td>\n",
              "      <td>8041.4</td>\n",
              "      <td>-0.96</td>\n",
              "    </tr>\n",
              "    <tr>\n",
              "      <th>4</th>\n",
              "      <td>10/05/2019</td>\n",
              "      <td>8127.3</td>\n",
              "      <td>8148.0</td>\n",
              "      <td>8185.1</td>\n",
              "      <td>8030.6</td>\n",
              "      <td>-0.25</td>\n",
              "    </tr>\n",
              "  </tbody>\n",
              "</table>\n",
              "</div>"
            ],
            "text/plain": [
              "         Date   Price    Open    High     Low  Change\n",
              "0  10/01/2019  8302.7  8285.0  8486.2  8187.9    0.22\n",
              "1  10/02/2019  8364.1  8302.7  8374.0  8167.7    0.74\n",
              "2  10/03/2019  8226.9  8363.6  8391.7  8090.1   -1.64\n",
              "3  10/04/2019  8148.1  8227.6  8233.6  8041.4   -0.96\n",
              "4  10/05/2019  8127.3  8148.0  8185.1  8030.6   -0.25"
            ]
          },
          "metadata": {
            "tags": []
          },
          "execution_count": 13
        }
      ]
    },
    {
      "cell_type": "markdown",
      "metadata": {
        "id": "y3gDCBQpq1dV",
        "colab_type": "text"
      },
      "source": [
        "Data Train of Etherum"
      ]
    },
    {
      "cell_type": "code",
      "metadata": {
        "id": "UyuKlTXhOmRg",
        "colab_type": "code",
        "colab": {
          "base_uri": "https://localhost:8080/",
          "height": 206
        },
        "outputId": "56cd43d2-c485-477a-bb8b-85aa70f416a6"
      },
      "source": [
        "df = pd.read_csv(\"Etherum_Historical_Data_Train.csv\", delimiter=';', names = ['Date', 'Price','Open','High','Low','Change'])\n",
        "df.head(5)"
      ],
      "execution_count": 14,
      "outputs": [
        {
          "output_type": "execute_result",
          "data": {
            "text/html": [
              "<div>\n",
              "<style scoped>\n",
              "    .dataframe tbody tr th:only-of-type {\n",
              "        vertical-align: middle;\n",
              "    }\n",
              "\n",
              "    .dataframe tbody tr th {\n",
              "        vertical-align: top;\n",
              "    }\n",
              "\n",
              "    .dataframe thead th {\n",
              "        text-align: right;\n",
              "    }\n",
              "</style>\n",
              "<table border=\"1\" class=\"dataframe\">\n",
              "  <thead>\n",
              "    <tr style=\"text-align: right;\">\n",
              "      <th></th>\n",
              "      <th>Date</th>\n",
              "      <th>Price</th>\n",
              "      <th>Open</th>\n",
              "      <th>High</th>\n",
              "      <th>Low</th>\n",
              "      <th>Change</th>\n",
              "    </tr>\n",
              "  </thead>\n",
              "  <tbody>\n",
              "    <tr>\n",
              "      <th>0</th>\n",
              "      <td>10/03/2016</td>\n",
              "      <td>11.75</td>\n",
              "      <td>11.20</td>\n",
              "      <td>11.85</td>\n",
              "      <td>11.07</td>\n",
              "      <td>4.91</td>\n",
              "    </tr>\n",
              "    <tr>\n",
              "      <th>1</th>\n",
              "      <td>11/03/2016</td>\n",
              "      <td>11.95</td>\n",
              "      <td>11.75</td>\n",
              "      <td>11.95</td>\n",
              "      <td>11.75</td>\n",
              "      <td>1.70</td>\n",
              "    </tr>\n",
              "    <tr>\n",
              "      <th>2</th>\n",
              "      <td>12/03/2016</td>\n",
              "      <td>12.92</td>\n",
              "      <td>11.95</td>\n",
              "      <td>13.45</td>\n",
              "      <td>11.95</td>\n",
              "      <td>8.12</td>\n",
              "    </tr>\n",
              "    <tr>\n",
              "      <th>3</th>\n",
              "      <td>13/03/2016</td>\n",
              "      <td>15.07</td>\n",
              "      <td>12.92</td>\n",
              "      <td>15.07</td>\n",
              "      <td>12.92</td>\n",
              "      <td>16.64</td>\n",
              "    </tr>\n",
              "    <tr>\n",
              "      <th>4</th>\n",
              "      <td>14/03/2016</td>\n",
              "      <td>12.50</td>\n",
              "      <td>15.07</td>\n",
              "      <td>15.07</td>\n",
              "      <td>11.40</td>\n",
              "      <td>-17.05</td>\n",
              "    </tr>\n",
              "  </tbody>\n",
              "</table>\n",
              "</div>"
            ],
            "text/plain": [
              "         Date  Price   Open   High    Low  Change\n",
              "0  10/03/2016  11.75  11.20  11.85  11.07    4.91\n",
              "1  11/03/2016  11.95  11.75  11.95  11.75    1.70\n",
              "2  12/03/2016  12.92  11.95  13.45  11.95    8.12\n",
              "3  13/03/2016  15.07  12.92  15.07  12.92   16.64\n",
              "4  14/03/2016  12.50  15.07  15.07  11.40  -17.05"
            ]
          },
          "metadata": {
            "tags": []
          },
          "execution_count": 14
        }
      ]
    },
    {
      "cell_type": "markdown",
      "metadata": {
        "id": "5vES_A3bq38M",
        "colab_type": "text"
      },
      "source": [
        "Data Test of Etherum"
      ]
    },
    {
      "cell_type": "code",
      "metadata": {
        "id": "8DAGlws4OpJI",
        "colab_type": "code",
        "colab": {
          "base_uri": "https://localhost:8080/",
          "height": 206
        },
        "outputId": "e7fb05ed-9473-4d6b-afa5-a19d3901d2f4"
      },
      "source": [
        "df = pd.read_csv(\"Etherum_Historical_Data_Test.csv\", delimiter=';', names = ['Date', 'Price','Open','High','Low','Change'])\n",
        "df.head(5)"
      ],
      "execution_count": 15,
      "outputs": [
        {
          "output_type": "execute_result",
          "data": {
            "text/html": [
              "<div>\n",
              "<style scoped>\n",
              "    .dataframe tbody tr th:only-of-type {\n",
              "        vertical-align: middle;\n",
              "    }\n",
              "\n",
              "    .dataframe tbody tr th {\n",
              "        vertical-align: top;\n",
              "    }\n",
              "\n",
              "    .dataframe thead th {\n",
              "        text-align: right;\n",
              "    }\n",
              "</style>\n",
              "<table border=\"1\" class=\"dataframe\">\n",
              "  <thead>\n",
              "    <tr style=\"text-align: right;\">\n",
              "      <th></th>\n",
              "      <th>Date</th>\n",
              "      <th>Price</th>\n",
              "      <th>Open</th>\n",
              "      <th>High</th>\n",
              "      <th>Low</th>\n",
              "      <th>Change</th>\n",
              "    </tr>\n",
              "  </thead>\n",
              "  <tbody>\n",
              "    <tr>\n",
              "      <th>0</th>\n",
              "      <td>10/01/2019</td>\n",
              "      <td>175.78</td>\n",
              "      <td>180.36</td>\n",
              "      <td>184.95</td>\n",
              "      <td>174.03</td>\n",
              "      <td>-2.54</td>\n",
              "    </tr>\n",
              "    <tr>\n",
              "      <th>1</th>\n",
              "      <td>10/02/2019</td>\n",
              "      <td>180.27</td>\n",
              "      <td>175.78</td>\n",
              "      <td>180.84</td>\n",
              "      <td>173.97</td>\n",
              "      <td>2.56</td>\n",
              "    </tr>\n",
              "    <tr>\n",
              "      <th>2</th>\n",
              "      <td>10/03/2019</td>\n",
              "      <td>174.54</td>\n",
              "      <td>180.26</td>\n",
              "      <td>180.57</td>\n",
              "      <td>170.65</td>\n",
              "      <td>-3.18</td>\n",
              "    </tr>\n",
              "    <tr>\n",
              "      <th>3</th>\n",
              "      <td>10/04/2019</td>\n",
              "      <td>175.65</td>\n",
              "      <td>174.58</td>\n",
              "      <td>178.43</td>\n",
              "      <td>171.33</td>\n",
              "      <td>0.64</td>\n",
              "    </tr>\n",
              "    <tr>\n",
              "      <th>4</th>\n",
              "      <td>10/05/2019</td>\n",
              "      <td>176.43</td>\n",
              "      <td>175.65</td>\n",
              "      <td>176.63</td>\n",
              "      <td>172.39</td>\n",
              "      <td>0.44</td>\n",
              "    </tr>\n",
              "  </tbody>\n",
              "</table>\n",
              "</div>"
            ],
            "text/plain": [
              "         Date   Price    Open    High     Low  Change\n",
              "0  10/01/2019  175.78  180.36  184.95  174.03   -2.54\n",
              "1  10/02/2019  180.27  175.78  180.84  173.97    2.56\n",
              "2  10/03/2019  174.54  180.26  180.57  170.65   -3.18\n",
              "3  10/04/2019  175.65  174.58  178.43  171.33    0.64\n",
              "4  10/05/2019  176.43  175.65  176.63  172.39    0.44"
            ]
          },
          "metadata": {
            "tags": []
          },
          "execution_count": 15
        }
      ]
    },
    {
      "cell_type": "markdown",
      "metadata": {
        "id": "bgor-YwAq7KW",
        "colab_type": "text"
      },
      "source": [
        "Data Train of XRP"
      ]
    },
    {
      "cell_type": "code",
      "metadata": {
        "id": "NkPoT7jZOtZo",
        "colab_type": "code",
        "colab": {
          "base_uri": "https://localhost:8080/",
          "height": 206
        },
        "outputId": "dd2ff589-6270-43d6-c784-779a2589b540"
      },
      "source": [
        "df = pd.read_csv(\"XRP_Historical_Data_Train.csv\", delimiter=';', names = ['Date', 'Price','Open','High','Low','Change'])\n",
        "df.head(5)"
      ],
      "execution_count": 16,
      "outputs": [
        {
          "output_type": "execute_result",
          "data": {
            "text/html": [
              "<div>\n",
              "<style scoped>\n",
              "    .dataframe tbody tr th:only-of-type {\n",
              "        vertical-align: middle;\n",
              "    }\n",
              "\n",
              "    .dataframe tbody tr th {\n",
              "        vertical-align: top;\n",
              "    }\n",
              "\n",
              "    .dataframe thead th {\n",
              "        text-align: right;\n",
              "    }\n",
              "</style>\n",
              "<table border=\"1\" class=\"dataframe\">\n",
              "  <thead>\n",
              "    <tr style=\"text-align: right;\">\n",
              "      <th></th>\n",
              "      <th>Date</th>\n",
              "      <th>Price</th>\n",
              "      <th>Open</th>\n",
              "      <th>High</th>\n",
              "      <th>Low</th>\n",
              "      <th>Change</th>\n",
              "    </tr>\n",
              "  </thead>\n",
              "  <tbody>\n",
              "    <tr>\n",
              "      <th>0</th>\n",
              "      <td>01/02/2015</td>\n",
              "      <td>0.01352</td>\n",
              "      <td>0.01499</td>\n",
              "      <td>0.01499</td>\n",
              "      <td>0.01351</td>\n",
              "      <td>-9.81</td>\n",
              "    </tr>\n",
              "    <tr>\n",
              "      <th>1</th>\n",
              "      <td>02/02/2015</td>\n",
              "      <td>0.01327</td>\n",
              "      <td>0.01500</td>\n",
              "      <td>0.01500</td>\n",
              "      <td>0.01327</td>\n",
              "      <td>-1.85</td>\n",
              "    </tr>\n",
              "    <tr>\n",
              "      <th>2</th>\n",
              "      <td>03/02/2015</td>\n",
              "      <td>0.01480</td>\n",
              "      <td>0.01327</td>\n",
              "      <td>0.01500</td>\n",
              "      <td>0.01327</td>\n",
              "      <td>11.53</td>\n",
              "    </tr>\n",
              "    <tr>\n",
              "      <th>3</th>\n",
              "      <td>04/02/2015</td>\n",
              "      <td>0.01400</td>\n",
              "      <td>0.01480</td>\n",
              "      <td>0.01480</td>\n",
              "      <td>0.01400</td>\n",
              "      <td>-5.41</td>\n",
              "    </tr>\n",
              "    <tr>\n",
              "      <th>4</th>\n",
              "      <td>05/02/2015</td>\n",
              "      <td>0.01573</td>\n",
              "      <td>0.01400</td>\n",
              "      <td>0.01573</td>\n",
              "      <td>0.01300</td>\n",
              "      <td>12.36</td>\n",
              "    </tr>\n",
              "  </tbody>\n",
              "</table>\n",
              "</div>"
            ],
            "text/plain": [
              "         Date    Price     Open     High      Low  Change\n",
              "0  01/02/2015  0.01352  0.01499  0.01499  0.01351   -9.81\n",
              "1  02/02/2015  0.01327  0.01500  0.01500  0.01327   -1.85\n",
              "2  03/02/2015  0.01480  0.01327  0.01500  0.01327   11.53\n",
              "3  04/02/2015  0.01400  0.01480  0.01480  0.01400   -5.41\n",
              "4  05/02/2015  0.01573  0.01400  0.01573  0.01300   12.36"
            ]
          },
          "metadata": {
            "tags": []
          },
          "execution_count": 16
        }
      ]
    },
    {
      "cell_type": "markdown",
      "metadata": {
        "id": "phXqNRz0q9vo",
        "colab_type": "text"
      },
      "source": [
        "Data Test of XRP"
      ]
    },
    {
      "cell_type": "code",
      "metadata": {
        "id": "ttUKUNvyOv83",
        "colab_type": "code",
        "colab": {
          "base_uri": "https://localhost:8080/",
          "height": 206
        },
        "outputId": "5121f7f7-2178-4730-b15b-f358be27dab7"
      },
      "source": [
        "df = pd.read_csv(\"XRP_Historical_Data_Test.csv\", delimiter=';', names = ['Date', 'Price','Open','High','Low','Change'])\n",
        "df.head(5)"
      ],
      "execution_count": 17,
      "outputs": [
        {
          "output_type": "execute_result",
          "data": {
            "text/html": [
              "<div>\n",
              "<style scoped>\n",
              "    .dataframe tbody tr th:only-of-type {\n",
              "        vertical-align: middle;\n",
              "    }\n",
              "\n",
              "    .dataframe tbody tr th {\n",
              "        vertical-align: top;\n",
              "    }\n",
              "\n",
              "    .dataframe thead th {\n",
              "        text-align: right;\n",
              "    }\n",
              "</style>\n",
              "<table border=\"1\" class=\"dataframe\">\n",
              "  <thead>\n",
              "    <tr style=\"text-align: right;\">\n",
              "      <th></th>\n",
              "      <th>Date</th>\n",
              "      <th>Price</th>\n",
              "      <th>Open</th>\n",
              "      <th>High</th>\n",
              "      <th>Low</th>\n",
              "      <th>Change</th>\n",
              "    </tr>\n",
              "  </thead>\n",
              "  <tbody>\n",
              "    <tr>\n",
              "      <th>0</th>\n",
              "      <td>10/01/2019</td>\n",
              "      <td>0.24805</td>\n",
              "      <td>0.25643</td>\n",
              "      <td>0.26061</td>\n",
              "      <td>0.24512</td>\n",
              "      <td>-3.27</td>\n",
              "    </tr>\n",
              "    <tr>\n",
              "      <th>1</th>\n",
              "      <td>10/02/2019</td>\n",
              "      <td>0.25279</td>\n",
              "      <td>0.24806</td>\n",
              "      <td>0.25453</td>\n",
              "      <td>0.24455</td>\n",
              "      <td>1.91</td>\n",
              "    </tr>\n",
              "    <tr>\n",
              "      <th>2</th>\n",
              "      <td>10/03/2019</td>\n",
              "      <td>0.24683</td>\n",
              "      <td>0.25275</td>\n",
              "      <td>0.25292</td>\n",
              "      <td>0.24225</td>\n",
              "      <td>-2.36</td>\n",
              "    </tr>\n",
              "    <tr>\n",
              "      <th>3</th>\n",
              "      <td>10/04/2019</td>\n",
              "      <td>0.25244</td>\n",
              "      <td>0.24681</td>\n",
              "      <td>0.25627</td>\n",
              "      <td>0.24493</td>\n",
              "      <td>2.27</td>\n",
              "    </tr>\n",
              "    <tr>\n",
              "      <th>4</th>\n",
              "      <td>10/05/2019</td>\n",
              "      <td>0.25318</td>\n",
              "      <td>0.25245</td>\n",
              "      <td>0.25625</td>\n",
              "      <td>0.24707</td>\n",
              "      <td>0.29</td>\n",
              "    </tr>\n",
              "  </tbody>\n",
              "</table>\n",
              "</div>"
            ],
            "text/plain": [
              "         Date    Price     Open     High      Low  Change\n",
              "0  10/01/2019  0.24805  0.25643  0.26061  0.24512   -3.27\n",
              "1  10/02/2019  0.25279  0.24806  0.25453  0.24455    1.91\n",
              "2  10/03/2019  0.24683  0.25275  0.25292  0.24225   -2.36\n",
              "3  10/04/2019  0.25244  0.24681  0.25627  0.24493    2.27\n",
              "4  10/05/2019  0.25318  0.25245  0.25625  0.24707    0.29"
            ]
          },
          "metadata": {
            "tags": []
          },
          "execution_count": 17
        }
      ]
    },
    {
      "cell_type": "markdown",
      "metadata": {
        "id": "K6R2wqwDrEM1",
        "colab_type": "text"
      },
      "source": [
        "Historical Data of SnP500"
      ]
    },
    {
      "cell_type": "code",
      "metadata": {
        "id": "JfcXItJdXPEv",
        "colab_type": "code",
        "colab": {
          "base_uri": "https://localhost:8080/",
          "height": 206
        },
        "outputId": "d251d4be-4fad-41df-eeb7-377a1d22f340"
      },
      "source": [
        "df = pd.read_csv(\"SnP500_Historical_Data.csv\", delimiter=';', names = ['Date', 'Price','Open','High','Low','Change'])\n",
        "df.head(5)"
      ],
      "execution_count": 18,
      "outputs": [
        {
          "output_type": "execute_result",
          "data": {
            "text/html": [
              "<div>\n",
              "<style scoped>\n",
              "    .dataframe tbody tr th:only-of-type {\n",
              "        vertical-align: middle;\n",
              "    }\n",
              "\n",
              "    .dataframe tbody tr th {\n",
              "        vertical-align: top;\n",
              "    }\n",
              "\n",
              "    .dataframe thead th {\n",
              "        text-align: right;\n",
              "    }\n",
              "</style>\n",
              "<table border=\"1\" class=\"dataframe\">\n",
              "  <thead>\n",
              "    <tr style=\"text-align: right;\">\n",
              "      <th></th>\n",
              "      <th>Date</th>\n",
              "      <th>Price</th>\n",
              "      <th>Open</th>\n",
              "      <th>High</th>\n",
              "      <th>Low</th>\n",
              "      <th>Change</th>\n",
              "    </tr>\n",
              "  </thead>\n",
              "  <tbody>\n",
              "    <tr>\n",
              "      <th>0</th>\n",
              "      <td>09/04/2018</td>\n",
              "      <td>2896.72</td>\n",
              "      <td>2896.96</td>\n",
              "      <td>2900.18</td>\n",
              "      <td>2885.13</td>\n",
              "      <td>-0.17</td>\n",
              "    </tr>\n",
              "    <tr>\n",
              "      <th>1</th>\n",
              "      <td>09/05/2018</td>\n",
              "      <td>2888.60</td>\n",
              "      <td>2891.59</td>\n",
              "      <td>2894.21</td>\n",
              "      <td>2876.92</td>\n",
              "      <td>-0.28</td>\n",
              "    </tr>\n",
              "    <tr>\n",
              "      <th>2</th>\n",
              "      <td>09/06/2018</td>\n",
              "      <td>2878.05</td>\n",
              "      <td>2888.64</td>\n",
              "      <td>2892.05</td>\n",
              "      <td>2867.29</td>\n",
              "      <td>-0.37</td>\n",
              "    </tr>\n",
              "    <tr>\n",
              "      <th>3</th>\n",
              "      <td>09/07/2018</td>\n",
              "      <td>2871.68</td>\n",
              "      <td>2868.26</td>\n",
              "      <td>2883.81</td>\n",
              "      <td>2864.12</td>\n",
              "      <td>-0.22</td>\n",
              "    </tr>\n",
              "    <tr>\n",
              "      <th>4</th>\n",
              "      <td>09/10/2018</td>\n",
              "      <td>2877.13</td>\n",
              "      <td>2881.39</td>\n",
              "      <td>2886.93</td>\n",
              "      <td>2875.94</td>\n",
              "      <td>0.19</td>\n",
              "    </tr>\n",
              "  </tbody>\n",
              "</table>\n",
              "</div>"
            ],
            "text/plain": [
              "         Date    Price     Open     High      Low  Change\n",
              "0  09/04/2018  2896.72  2896.96  2900.18  2885.13   -0.17\n",
              "1  09/05/2018  2888.60  2891.59  2894.21  2876.92   -0.28\n",
              "2  09/06/2018  2878.05  2888.64  2892.05  2867.29   -0.37\n",
              "3  09/07/2018  2871.68  2868.26  2883.81  2864.12   -0.22\n",
              "4  09/10/2018  2877.13  2881.39  2886.93  2875.94    0.19"
            ]
          },
          "metadata": {
            "tags": []
          },
          "execution_count": 18
        }
      ]
    },
    {
      "cell_type": "code",
      "metadata": {
        "id": "kZLBF_K7P4sU",
        "colab_type": "code",
        "colab": {}
      },
      "source": [
        "filename1 = 'Bitcoin_Historical_Data_Train.csv'\n",
        "filename2 = 'Etherum_Historical_Data_Train.csv'\n",
        "filename3 = 'XRP_Historical_Data_Train.csv'\n",
        "filename4 = 'Bitcoin_Historical_Data_Test.csv'\n",
        "filename5 = 'Etherum_Historical_Data_Test.csv'\n",
        "filename6 = 'XRP_Historical_Data_Test.csv'\n",
        "filename7 = 'SnP500_Historical_Data.csv'"
      ],
      "execution_count": 19,
      "outputs": []
    },
    {
      "cell_type": "markdown",
      "metadata": {
        "id": "BN8idxEpqlNd",
        "colab_type": "text"
      },
      "source": [
        "Show the volatility of cryptocurrency"
      ]
    },
    {
      "cell_type": "code",
      "metadata": {
        "id": "EaaULcQEQbPa",
        "colab_type": "code",
        "colab": {
          "base_uri": "https://localhost:8080/",
          "height": 91
        },
        "outputId": "e6e85b5b-fee3-4d2f-aca2-84a96b7ab0aa"
      },
      "source": [
        "std_bitcoin, std_etherum, std_xrp, std_snp500 = Volatility(filename1, filename2, filename3, filename7)\n",
        "print(\"STD Bitcoin:\", std_bitcoin)\n",
        "print(\"STD Etherum:\", std_etherum)\n",
        "print(\"STD XRP:\", std_xrp)\n",
        "print(\"STD S&P500:\", std_snp500)"
      ],
      "execution_count": 20,
      "outputs": [
        {
          "output_type": "stream",
          "text": [
            "STD Bitcoin: 71.66592477390235\n",
            "STD Etherum: 95.45143786311958\n",
            "STD XRP: 97.70329351300128\n",
            "STD S&P500: 16.513530403883962\n"
          ],
          "name": "stdout"
        }
      ]
    },
    {
      "cell_type": "code",
      "metadata": {
        "id": "tLEhb1BwXi6L",
        "colab_type": "code",
        "colab": {}
      },
      "source": [
        "rms1 = []\n",
        "rms2 = []\n",
        "rms3 = []\n",
        "time1 = []\n",
        "time2 = []\n",
        "time3 = []"
      ],
      "execution_count": 21,
      "outputs": []
    },
    {
      "cell_type": "markdown",
      "metadata": {
        "id": "LlECi0I5qUQY",
        "colab_type": "text"
      },
      "source": [
        "Bitcoin Price Prediction"
      ]
    },
    {
      "cell_type": "code",
      "metadata": {
        "id": "GUsZ__VkXpTx",
        "colab_type": "code",
        "colab": {
          "base_uri": "https://localhost:8080/",
          "height": 1000
        },
        "outputId": "f0ede1d1-3c4d-48e4-a1b1-66fe92c39ff9"
      },
      "source": [
        "np.random.seed(10)\n",
        "predicted_price = []\n",
        "X_train, y_train, X_test, real_price, dataset_total, training_set, total_time = preprocessing_data(filename1, filename4)\n",
        "predicted_price1, temp2, temp1 = KNN_Prediction(X_train, y_train, X_test, real_price, dataset_total, training_set, total_time)\n",
        "rms1.append(temp2)\n",
        "time1.append(temp1)\n",
        "predicted_price2, temp2, temp1 = SVM_Prediction(X_train, y_train, X_test, real_price, dataset_total, training_set, total_time)\n",
        "rms2.append(temp2)\n",
        "time2.append(temp1)\n",
        "predicted_price3, temp2, data_actual, temp1 = LSTM_Prediction(filename1, filename4)\n",
        "rms3.append(temp2)\n",
        "time3.append(temp1)\n",
        "Plot_Graph(data_actual, predicted_price1, predicted_price2, predicted_price3, \"Bitcoin\")\n",
        "data_comparison = Comparison_Data(filename4, data_actual, predicted_price1, predicted_price2, predicted_price3, \"Bitcoin\")\n",
        "data_comparison.head(10)"
      ],
      "execution_count": 22,
      "outputs": [
        {
          "output_type": "stream",
          "text": [
            "/usr/local/lib/python3.6/dist-packages/sklearn/utils/validation.py:760: DataConversionWarning: A column-vector y was passed when a 1d array was expected. Please change the shape of y to (n_samples, ), for example using ravel().\n",
            "  y = column_or_1d(y, warn=True)\n"
          ],
          "name": "stderr"
        },
        {
          "output_type": "stream",
          "text": [
            "Epoch 1/10\n",
            "68/68 [==============================] - 3s 49ms/step - loss: 0.0557\n",
            "Epoch 2/10\n",
            "68/68 [==============================] - 3s 48ms/step - loss: 0.0203\n",
            "Epoch 3/10\n",
            "68/68 [==============================] - 3s 48ms/step - loss: 0.0092\n",
            "Epoch 4/10\n",
            "68/68 [==============================] - 3s 49ms/step - loss: 0.0059\n",
            "Epoch 5/10\n",
            "68/68 [==============================] - 3s 49ms/step - loss: 0.0045\n",
            "Epoch 6/10\n",
            "68/68 [==============================] - 3s 49ms/step - loss: 0.0039\n",
            "Epoch 7/10\n",
            "68/68 [==============================] - 3s 49ms/step - loss: 0.0036\n",
            "Epoch 8/10\n",
            "68/68 [==============================] - 3s 50ms/step - loss: 0.0034\n",
            "Epoch 9/10\n",
            "68/68 [==============================] - 3s 49ms/step - loss: 0.0032\n",
            "Epoch 10/10\n",
            "68/68 [==============================] - 3s 48ms/step - loss: 0.0029\n"
          ],
          "name": "stdout"
        },
        {
          "output_type": "display_data",
          "data": {
            "image/png": "[encoded data removed]",
            "text/plain": [
              "<Figure size 432x288 with 1 Axes>"
            ]
          },
          "metadata": {
            "tags": [],
            "needs_background": "light"
          }
        },
        {
          "output_type": "execute_result",
          "data": {
            "text/html": [
              "<div>\n",
              "<style scoped>\n",
              "    .dataframe tbody tr th:only-of-type {\n",
              "        vertical-align: middle;\n",
              "    }\n",
              "\n",
              "    .dataframe tbody tr th {\n",
              "        vertical-align: top;\n",
              "    }\n",
              "\n",
              "    .dataframe thead th {\n",
              "        text-align: right;\n",
              "    }\n",
              "</style>\n",
              "<table border=\"1\" class=\"dataframe\">\n",
              "  <thead>\n",
              "    <tr style=\"text-align: right;\">\n",
              "      <th></th>\n",
              "      <th>Date</th>\n",
              "      <th>Actual Price Bitcoin</th>\n",
              "      <th>Price KNN</th>\n",
              "      <th>RMSE KNN</th>\n",
              "      <th>Price SVM</th>\n",
              "      <th>RMSE SVM</th>\n",
              "      <th>Price LSTM</th>\n",
              "      <th>RMSE LSTM</th>\n",
              "    </tr>\n",
              "  </thead>\n",
              "  <tbody>\n",
              "    <tr>\n",
              "      <th>0</th>\n",
              "      <td>10/01/2019</td>\n",
              "      <td>8302.7</td>\n",
              "      <td>8646.7</td>\n",
              "      <td>344</td>\n",
              "      <td>6794.17</td>\n",
              "      <td>1508.53</td>\n",
              "      <td>10276.3</td>\n",
              "      <td>1973.57</td>\n",
              "    </tr>\n",
              "    <tr>\n",
              "      <th>1</th>\n",
              "      <td>10/02/2019</td>\n",
              "      <td>8364.1</td>\n",
              "      <td>8721.33</td>\n",
              "      <td>357.233</td>\n",
              "      <td>6833.67</td>\n",
              "      <td>1530.43</td>\n",
              "      <td>10154.8</td>\n",
              "      <td>1790.67</td>\n",
              "    </tr>\n",
              "    <tr>\n",
              "      <th>2</th>\n",
              "      <td>10/03/2019</td>\n",
              "      <td>8226.9</td>\n",
              "      <td>9315.23</td>\n",
              "      <td>1088.33</td>\n",
              "      <td>7400.96</td>\n",
              "      <td>825.945</td>\n",
              "      <td>9986.26</td>\n",
              "      <td>1759.36</td>\n",
              "    </tr>\n",
              "    <tr>\n",
              "      <th>3</th>\n",
              "      <td>10/04/2019</td>\n",
              "      <td>8148.1</td>\n",
              "      <td>10643.1</td>\n",
              "      <td>2495</td>\n",
              "      <td>7592.44</td>\n",
              "      <td>555.657</td>\n",
              "      <td>9781.76</td>\n",
              "      <td>1633.66</td>\n",
              "    </tr>\n",
              "    <tr>\n",
              "      <th>4</th>\n",
              "      <td>10/05/2019</td>\n",
              "      <td>8127.3</td>\n",
              "      <td>10429.8</td>\n",
              "      <td>2302.53</td>\n",
              "      <td>6706.04</td>\n",
              "      <td>1421.26</td>\n",
              "      <td>9556.94</td>\n",
              "      <td>1429.64</td>\n",
              "    </tr>\n",
              "    <tr>\n",
              "      <th>5</th>\n",
              "      <td>10/06/2019</td>\n",
              "      <td>7881.9</td>\n",
              "      <td>8900.37</td>\n",
              "      <td>1018.47</td>\n",
              "      <td>7172.52</td>\n",
              "      <td>709.384</td>\n",
              "      <td>9322.35</td>\n",
              "      <td>1440.45</td>\n",
              "    </tr>\n",
              "    <tr>\n",
              "      <th>6</th>\n",
              "      <td>10/07/2019</td>\n",
              "      <td>8198.6</td>\n",
              "      <td>10844.6</td>\n",
              "      <td>2646</td>\n",
              "      <td>6432.75</td>\n",
              "      <td>1765.85</td>\n",
              "      <td>9087.69</td>\n",
              "      <td>889.089</td>\n",
              "    </tr>\n",
              "    <tr>\n",
              "      <th>7</th>\n",
              "      <td>10/08/2019</td>\n",
              "      <td>8182.9</td>\n",
              "      <td>11062.6</td>\n",
              "      <td>2879.67</td>\n",
              "      <td>6274.37</td>\n",
              "      <td>1908.53</td>\n",
              "      <td>8875.59</td>\n",
              "      <td>692.693</td>\n",
              "    </tr>\n",
              "    <tr>\n",
              "      <th>8</th>\n",
              "      <td>10/09/2019</td>\n",
              "      <td>8566.7</td>\n",
              "      <td>11229.7</td>\n",
              "      <td>2662.97</td>\n",
              "      <td>6348.15</td>\n",
              "      <td>2218.55</td>\n",
              "      <td>8694.14</td>\n",
              "      <td>127.438</td>\n",
              "    </tr>\n",
              "    <tr>\n",
              "      <th>9</th>\n",
              "      <td>10/10/2019</td>\n",
              "      <td>8562.3</td>\n",
              "      <td>9199.8</td>\n",
              "      <td>637.5</td>\n",
              "      <td>7490.49</td>\n",
              "      <td>1071.81</td>\n",
              "      <td>8566.7</td>\n",
              "      <td>4.4002</td>\n",
              "    </tr>\n",
              "  </tbody>\n",
              "</table>\n",
              "</div>"
            ],
            "text/plain": [
              "         Date Actual Price Bitcoin Price KNN  ... RMSE SVM Price LSTM RMSE LSTM\n",
              "0  10/01/2019               8302.7    8646.7  ...  1508.53    10276.3   1973.57\n",
              "1  10/02/2019               8364.1   8721.33  ...  1530.43    10154.8   1790.67\n",
              "2  10/03/2019               8226.9   9315.23  ...  825.945    9986.26   1759.36\n",
              "3  10/04/2019               8148.1   10643.1  ...  555.657    9781.76   1633.66\n",
              "4  10/05/2019               8127.3   10429.8  ...  1421.26    9556.94   1429.64\n",
              "5  10/06/2019               7881.9   8900.37  ...  709.384    9322.35   1440.45\n",
              "6  10/07/2019               8198.6   10844.6  ...  1765.85    9087.69   889.089\n",
              "7  10/08/2019               8182.9   11062.6  ...  1908.53    8875.59   692.693\n",
              "8  10/09/2019               8566.7   11229.7  ...  2218.55    8694.14   127.438\n",
              "9  10/10/2019               8562.3    9199.8  ...  1071.81     8566.7    4.4002\n",
              "\n",
              "[10 rows x 8 columns]"
            ]
          },
          "metadata": {
            "tags": []
          },
          "execution_count": 22
        }
      ]
    },
    {
      "cell_type": "markdown",
      "metadata": {
        "id": "cwBPvULAqbjX",
        "colab_type": "text"
      },
      "source": [
        "Etherum Price Prediction"
      ]
    },
    {
      "cell_type": "code",
      "metadata": {
        "id": "EnaGuXGJkZBz",
        "colab_type": "code",
        "colab": {
          "base_uri": "https://localhost:8080/",
          "height": 1000
        },
        "outputId": "ae0ed87e-b4f1-49b9-c995-71794cb925fa"
      },
      "source": [
        "np.random.seed(10)\n",
        "predicted_price = []\n",
        "X_train, y_train, X_test, real_price, dataset_total, training_set, total_time = preprocessing_data(filename2, filename5)\n",
        "predicted_price1, temp2, temp1 = KNN_Prediction(X_train, y_train, X_test, real_price, dataset_total, training_set, total_time)\n",
        "rms1.append(temp2)\n",
        "time1.append(temp1)\n",
        "predicted_price2, temp2, temp1 = SVM_Prediction(X_train, y_train, X_test, real_price, dataset_total, training_set, total_time)\n",
        "rms2.append(temp2)\n",
        "time2.append(temp1)\n",
        "predicted_price3, temp2, data_actual, temp1 = LSTM_Prediction(filename2, filename5)\n",
        "rms3.append(temp2)\n",
        "time3.append(temp1)\n",
        "Plot_Graph(data_actual, predicted_price1, predicted_price2, predicted_price3, \"Etherum\")\n",
        "data_comparison = Comparison_Data(filename5, data_actual, predicted_price1, predicted_price2, predicted_price3, \"Etherum\")\n",
        "data_comparison.head(10)"
      ],
      "execution_count": null,
      "outputs": [
        {
          "output_type": "stream",
          "text": [
            "/usr/local/lib/python3.6/dist-packages/sklearn/utils/validation.py:724: DataConversionWarning: A column-vector y was passed when a 1d array was expected. Please change the shape of y to (n_samples, ), for example using ravel().\n",
            "  y = column_or_1d(y, warn=True)\n"
          ],
          "name": "stderr"
        },
        {
          "output_type": "stream",
          "text": [
            "Epoch 1/10\n",
            "1239/1239 [==============================] - 19s 15ms/step - loss: 0.0694\n",
            "Epoch 2/10\n",
            "1239/1239 [==============================] - 4s 3ms/step - loss: 0.0399\n",
            "Epoch 3/10\n",
            "1239/1239 [==============================] - 4s 3ms/step - loss: 0.0204\n",
            "Epoch 4/10\n",
            "1239/1239 [==============================] - 4s 3ms/step - loss: 0.0089\n",
            "Epoch 5/10\n",
            "1239/1239 [==============================] - 4s 3ms/step - loss: 0.0081\n",
            "Epoch 6/10\n",
            "1239/1239 [==============================] - 4s 3ms/step - loss: 0.0058\n",
            "Epoch 7/10\n",
            "1239/1239 [==============================] - 4s 3ms/step - loss: 0.0043\n",
            "Epoch 8/10\n",
            "1239/1239 [==============================] - 4s 3ms/step - loss: 0.0046\n",
            "Epoch 9/10\n",
            "1239/1239 [==============================] - 4s 3ms/step - loss: 0.0043\n",
            "Epoch 10/10\n",
            "1239/1239 [==============================] - 4s 3ms/step - loss: 0.0037\n"
          ],
          "name": "stdout"
        },
        {
          "output_type": "display_data",
          "data": {
            "image/png": "[encoded data removed]",
            "text/plain": [
              "<Figure size 432x288 with 1 Axes>"
            ]
          },
          "metadata": {
            "tags": []
          }
        },
        {
          "output_type": "execute_result",
          "data": {
            "text/html": [
              "<div>\n",
              "<style scoped>\n",
              "    .dataframe tbody tr th:only-of-type {\n",
              "        vertical-align: middle;\n",
              "    }\n",
              "\n",
              "    .dataframe tbody tr th {\n",
              "        vertical-align: top;\n",
              "    }\n",
              "\n",
              "    .dataframe thead th {\n",
              "        text-align: right;\n",
              "    }\n",
              "</style>\n",
              "<table border=\"1\" class=\"dataframe\">\n",
              "  <thead>\n",
              "    <tr style=\"text-align: right;\">\n",
              "      <th></th>\n",
              "      <th>Date</th>\n",
              "      <th>Actual Price Etherum</th>\n",
              "      <th>Price KNN</th>\n",
              "      <th>RMSE KNN</th>\n",
              "      <th>Price SVM</th>\n",
              "      <th>RMSE SVM</th>\n",
              "      <th>Price LSTM</th>\n",
              "      <th>RMSE LSTM</th>\n",
              "    </tr>\n",
              "  </thead>\n",
              "  <tbody>\n",
              "    <tr>\n",
              "      <th>0</th>\n",
              "      <td>10/01/2019</td>\n",
              "      <td>175.78</td>\n",
              "      <td>220.848</td>\n",
              "      <td>45.0678</td>\n",
              "      <td>224.019</td>\n",
              "      <td>48.2388</td>\n",
              "      <td>176.991</td>\n",
              "      <td>1.21075</td>\n",
              "    </tr>\n",
              "    <tr>\n",
              "      <th>1</th>\n",
              "      <td>10/02/2019</td>\n",
              "      <td>180.27</td>\n",
              "      <td>221.964</td>\n",
              "      <td>41.6944</td>\n",
              "      <td>224.136</td>\n",
              "      <td>43.8658</td>\n",
              "      <td>175.098</td>\n",
              "      <td>5.17204</td>\n",
              "    </tr>\n",
              "    <tr>\n",
              "      <th>2</th>\n",
              "      <td>10/03/2019</td>\n",
              "      <td>174.54</td>\n",
              "      <td>219.701</td>\n",
              "      <td>45.1611</td>\n",
              "      <td>227.117</td>\n",
              "      <td>52.577</td>\n",
              "      <td>173.696</td>\n",
              "      <td>0.844382</td>\n",
              "    </tr>\n",
              "    <tr>\n",
              "      <th>3</th>\n",
              "      <td>10/04/2019</td>\n",
              "      <td>175.65</td>\n",
              "      <td>219</td>\n",
              "      <td>43.35</td>\n",
              "      <td>227.001</td>\n",
              "      <td>51.351</td>\n",
              "      <td>172.522</td>\n",
              "      <td>3.12766</td>\n",
              "    </tr>\n",
              "    <tr>\n",
              "      <th>4</th>\n",
              "      <td>10/05/2019</td>\n",
              "      <td>176.43</td>\n",
              "      <td>243.344</td>\n",
              "      <td>66.9144</td>\n",
              "      <td>234.929</td>\n",
              "      <td>58.4989</td>\n",
              "      <td>171.594</td>\n",
              "      <td>4.83576</td>\n",
              "    </tr>\n",
              "    <tr>\n",
              "      <th>5</th>\n",
              "      <td>10/06/2019</td>\n",
              "      <td>170.55</td>\n",
              "      <td>241.178</td>\n",
              "      <td>70.6278</td>\n",
              "      <td>230.337</td>\n",
              "      <td>59.787</td>\n",
              "      <td>170.919</td>\n",
              "      <td>0.368655</td>\n",
              "    </tr>\n",
              "    <tr>\n",
              "      <th>6</th>\n",
              "      <td>10/07/2019</td>\n",
              "      <td>179.87</td>\n",
              "      <td>245.576</td>\n",
              "      <td>65.7056</td>\n",
              "      <td>229.68</td>\n",
              "      <td>49.8102</td>\n",
              "      <td>170.227</td>\n",
              "      <td>9.64319</td>\n",
              "    </tr>\n",
              "    <tr>\n",
              "      <th>7</th>\n",
              "      <td>10/08/2019</td>\n",
              "      <td>180.78</td>\n",
              "      <td>192.24</td>\n",
              "      <td>11.46</td>\n",
              "      <td>226.619</td>\n",
              "      <td>45.8386</td>\n",
              "      <td>169.88</td>\n",
              "      <td>10.8999</td>\n",
              "    </tr>\n",
              "    <tr>\n",
              "      <th>8</th>\n",
              "      <td>10/09/2019</td>\n",
              "      <td>192.64</td>\n",
              "      <td>161.533</td>\n",
              "      <td>31.1067</td>\n",
              "      <td>219.24</td>\n",
              "      <td>26.5999</td>\n",
              "      <td>169.849</td>\n",
              "      <td>22.7914</td>\n",
              "    </tr>\n",
              "    <tr>\n",
              "      <th>9</th>\n",
              "      <td>10/10/2019</td>\n",
              "      <td>191.1</td>\n",
              "      <td>179.094</td>\n",
              "      <td>12.0056</td>\n",
              "      <td>216.732</td>\n",
              "      <td>25.6324</td>\n",
              "      <td>170.499</td>\n",
              "      <td>20.6013</td>\n",
              "    </tr>\n",
              "  </tbody>\n",
              "</table>\n",
              "</div>"
            ],
            "text/plain": [
              "         Date Actual Price Etherum Price KNN  ... RMSE SVM Price LSTM RMSE LSTM\n",
              "0  10/01/2019               175.78   220.848  ...  48.2388    176.991   1.21075\n",
              "1  10/02/2019               180.27   221.964  ...  43.8658    175.098   5.17204\n",
              "2  10/03/2019               174.54   219.701  ...   52.577    173.696  0.844382\n",
              "3  10/04/2019               175.65       219  ...   51.351    172.522   3.12766\n",
              "4  10/05/2019               176.43   243.344  ...  58.4989    171.594   4.83576\n",
              "5  10/06/2019               170.55   241.178  ...   59.787    170.919  0.368655\n",
              "6  10/07/2019               179.87   245.576  ...  49.8102    170.227   9.64319\n",
              "7  10/08/2019               180.78    192.24  ...  45.8386     169.88   10.8999\n",
              "8  10/09/2019               192.64   161.533  ...  26.5999    169.849   22.7914\n",
              "9  10/10/2019                191.1   179.094  ...  25.6324    170.499   20.6013\n",
              "\n",
              "[10 rows x 8 columns]"
            ]
          },
          "metadata": {
            "tags": []
          },
          "execution_count": 195
        }
      ]
    },
    {
      "cell_type": "markdown",
      "metadata": {
        "id": "eqN3DNZkqexa",
        "colab_type": "text"
      },
      "source": [
        "XRP price Prediction"
      ]
    },
    {
      "cell_type": "code",
      "metadata": {
        "id": "ePB667zTkwAS",
        "colab_type": "code",
        "colab": {
          "base_uri": "https://localhost:8080/",
          "height": 1000
        },
        "outputId": "c12c2f6f-404f-4fd7-efb3-a39447128368"
      },
      "source": [
        "np.random.seed(11)\n",
        "predicted_price = []\n",
        "X_train, y_train, X_test, real_price, dataset_total, training_set, total_time = preprocessing_data(filename3, filename6)\n",
        "predicted_price1, temp2, temp1 = KNN_Prediction(X_train, y_train, X_test, real_price, dataset_total, training_set, total_time)\n",
        "rms1.append(temp2)\n",
        "time1.append(temp1)\n",
        "predicted_price2, temp2, temp1 = SVM_Prediction(X_train, y_train, X_test, real_price, dataset_total, training_set, total_time)\n",
        "rms2.append(temp2)\n",
        "time2.append(temp1)\n",
        "predicted_price3, temp2, data_actual, temp1 = LSTM_Prediction(filename3, filename6)\n",
        "rms3.append(temp2)\n",
        "time3.append(temp1)\n",
        "Plot_Graph(data_actual, predicted_price1, predicted_price2, predicted_price3, \"XRP\")\n",
        "data_comparison = Comparison_Data(filename6,data_actual, predicted_price1, predicted_price2, predicted_price3, \"XRP\")\n",
        "data_comparison.head(10)"
      ],
      "execution_count": null,
      "outputs": [
        {
          "output_type": "stream",
          "text": [
            "/usr/local/lib/python3.6/dist-packages/sklearn/model_selection/_search.py:814: DeprecationWarning: The default of the `iid` parameter will change from True to False in version 0.22 and will be removed in 0.24. This will change numeric results when test-set sizes are unequal.\n",
            "  DeprecationWarning)\n",
            "/usr/local/lib/python3.6/dist-packages/sklearn/utils/validation.py:724: DataConversionWarning: A column-vector y was passed when a 1d array was expected. Please change the shape of y to (n_samples, ), for example using ravel().\n",
            "  y = column_or_1d(y, warn=True)\n"
          ],
          "name": "stderr"
        },
        {
          "output_type": "stream",
          "text": [
            "Epoch 1/10\n",
            "1642/1642 [==============================] - 21s 13ms/step - loss: 0.0770\n",
            "Epoch 2/10\n",
            "1642/1642 [==============================] - 5s 3ms/step - loss: 0.0450\n",
            "Epoch 3/10\n",
            "1642/1642 [==============================] - 5s 3ms/step - loss: 0.0156\n",
            "Epoch 4/10\n",
            "1642/1642 [==============================] - 5s 3ms/step - loss: 0.0074\n",
            "Epoch 5/10\n",
            "1642/1642 [==============================] - 5s 3ms/step - loss: 0.0044\n",
            "Epoch 6/10\n",
            "1642/1642 [==============================] - 5s 3ms/step - loss: 0.0045\n",
            "Epoch 7/10\n",
            "1642/1642 [==============================] - 5s 3ms/step - loss: 0.0032\n",
            "Epoch 8/10\n",
            "1642/1642 [==============================] - 5s 3ms/step - loss: 0.0023\n",
            "Epoch 9/10\n",
            "1642/1642 [==============================] - 5s 3ms/step - loss: 0.0020\n",
            "Epoch 10/10\n",
            "1642/1642 [==============================] - 5s 3ms/step - loss: 0.0017\n"
          ],
          "name": "stdout"
        },
        {
          "output_type": "display_data",
          "data": {
            "image/png": "[encoded data removed]",
            "text/plain": [
              "<Figure size 432x288 with 1 Axes>"
            ]
          },
          "metadata": {
            "tags": []
          }
        },
        {
          "output_type": "execute_result",
          "data": {
            "text/html": [
              "<div>\n",
              "<style scoped>\n",
              "    .dataframe tbody tr th:only-of-type {\n",
              "        vertical-align: middle;\n",
              "    }\n",
              "\n",
              "    .dataframe tbody tr th {\n",
              "        vertical-align: top;\n",
              "    }\n",
              "\n",
              "    .dataframe thead th {\n",
              "        text-align: right;\n",
              "    }\n",
              "</style>\n",
              "<table border=\"1\" class=\"dataframe\">\n",
              "  <thead>\n",
              "    <tr style=\"text-align: right;\">\n",
              "      <th></th>\n",
              "      <th>Date</th>\n",
              "      <th>Actual Price XRP</th>\n",
              "      <th>Price KNN</th>\n",
              "      <th>RMSE KNN</th>\n",
              "      <th>Price SVM</th>\n",
              "      <th>RMSE SVM</th>\n",
              "      <th>Price LSTM</th>\n",
              "      <th>RMSE LSTM</th>\n",
              "    </tr>\n",
              "  </thead>\n",
              "  <tbody>\n",
              "    <tr>\n",
              "      <th>0</th>\n",
              "      <td>10/01/2019</td>\n",
              "      <td>0.24805</td>\n",
              "      <td>0.327698</td>\n",
              "      <td>0.0796478</td>\n",
              "      <td>0.114799</td>\n",
              "      <td>0.133251</td>\n",
              "      <td>0.709567</td>\n",
              "      <td>0.461517</td>\n",
              "    </tr>\n",
              "    <tr>\n",
              "      <th>1</th>\n",
              "      <td>10/02/2019</td>\n",
              "      <td>0.25279</td>\n",
              "      <td>0.304886</td>\n",
              "      <td>0.0520956</td>\n",
              "      <td>0.114727</td>\n",
              "      <td>0.138063</td>\n",
              "      <td>0.709944</td>\n",
              "      <td>0.457154</td>\n",
              "    </tr>\n",
              "    <tr>\n",
              "      <th>2</th>\n",
              "      <td>10/03/2019</td>\n",
              "      <td>0.24683</td>\n",
              "      <td>0.328906</td>\n",
              "      <td>0.0820756</td>\n",
              "      <td>0.114805</td>\n",
              "      <td>0.132025</td>\n",
              "      <td>0.710303</td>\n",
              "      <td>0.463473</td>\n",
              "    </tr>\n",
              "    <tr>\n",
              "      <th>3</th>\n",
              "      <td>10/04/2019</td>\n",
              "      <td>0.25244</td>\n",
              "      <td>0.332891</td>\n",
              "      <td>0.0804511</td>\n",
              "      <td>0.114847</td>\n",
              "      <td>0.137593</td>\n",
              "      <td>0.710816</td>\n",
              "      <td>0.458376</td>\n",
              "    </tr>\n",
              "    <tr>\n",
              "      <th>4</th>\n",
              "      <td>10/05/2019</td>\n",
              "      <td>0.25318</td>\n",
              "      <td>0.321489</td>\n",
              "      <td>0.0683089</td>\n",
              "      <td>0.114915</td>\n",
              "      <td>0.138265</td>\n",
              "      <td>0.711455</td>\n",
              "      <td>0.458275</td>\n",
              "    </tr>\n",
              "    <tr>\n",
              "      <th>5</th>\n",
              "      <td>10/06/2019</td>\n",
              "      <td>0.25532</td>\n",
              "      <td>0.305301</td>\n",
              "      <td>0.0499811</td>\n",
              "      <td>0.114732</td>\n",
              "      <td>0.140588</td>\n",
              "      <td>0.712248</td>\n",
              "      <td>0.456928</td>\n",
              "    </tr>\n",
              "    <tr>\n",
              "      <th>6</th>\n",
              "      <td>10/07/2019</td>\n",
              "      <td>0.2758</td>\n",
              "      <td>0.32837</td>\n",
              "      <td>0.05257</td>\n",
              "      <td>0.114716</td>\n",
              "      <td>0.161084</td>\n",
              "      <td>0.712874</td>\n",
              "      <td>0.437074</td>\n",
              "    </tr>\n",
              "    <tr>\n",
              "      <th>7</th>\n",
              "      <td>10/08/2019</td>\n",
              "      <td>0.27753</td>\n",
              "      <td>0.323366</td>\n",
              "      <td>0.0458356</td>\n",
              "      <td>0.114669</td>\n",
              "      <td>0.162861</td>\n",
              "      <td>0.713611</td>\n",
              "      <td>0.436081</td>\n",
              "    </tr>\n",
              "    <tr>\n",
              "      <th>8</th>\n",
              "      <td>10/09/2019</td>\n",
              "      <td>0.28095</td>\n",
              "      <td>0.322794</td>\n",
              "      <td>0.0418444</td>\n",
              "      <td>0.114456</td>\n",
              "      <td>0.166494</td>\n",
              "      <td>0.714408</td>\n",
              "      <td>0.433458</td>\n",
              "    </tr>\n",
              "    <tr>\n",
              "      <th>9</th>\n",
              "      <td>10/10/2019</td>\n",
              "      <td>0.27033</td>\n",
              "      <td>0.36761</td>\n",
              "      <td>0.09728</td>\n",
              "      <td>0.114505</td>\n",
              "      <td>0.155825</td>\n",
              "      <td>0.71505</td>\n",
              "      <td>0.44472</td>\n",
              "    </tr>\n",
              "  </tbody>\n",
              "</table>\n",
              "</div>"
            ],
            "text/plain": [
              "         Date Actual Price XRP Price KNN  ...  RMSE SVM Price LSTM RMSE LSTM\n",
              "0  10/01/2019          0.24805  0.327698  ...  0.133251   0.709567  0.461517\n",
              "1  10/02/2019          0.25279  0.304886  ...  0.138063   0.709944  0.457154\n",
              "2  10/03/2019          0.24683  0.328906  ...  0.132025   0.710303  0.463473\n",
              "3  10/04/2019          0.25244  0.332891  ...  0.137593   0.710816  0.458376\n",
              "4  10/05/2019          0.25318  0.321489  ...  0.138265   0.711455  0.458275\n",
              "5  10/06/2019          0.25532  0.305301  ...  0.140588   0.712248  0.456928\n",
              "6  10/07/2019           0.2758   0.32837  ...  0.161084   0.712874  0.437074\n",
              "7  10/08/2019          0.27753  0.323366  ...  0.162861   0.713611  0.436081\n",
              "8  10/09/2019          0.28095  0.322794  ...  0.166494   0.714408  0.433458\n",
              "9  10/10/2019          0.27033   0.36761  ...  0.155825    0.71505   0.44472\n",
              "\n",
              "[10 rows x 8 columns]"
            ]
          },
          "metadata": {
            "tags": []
          },
          "execution_count": 196
        }
      ]
    },
    {
      "cell_type": "markdown",
      "metadata": {
        "id": "4xiQ16JZqMh0",
        "colab_type": "text"
      },
      "source": [
        "Show the Total of Error"
      ]
    },
    {
      "cell_type": "code",
      "metadata": {
        "id": "rFF4yasrll_g",
        "colab_type": "code",
        "colab": {
          "base_uri": "https://localhost:8080/",
          "height": 143
        },
        "outputId": "9ab574f2-87eb-454f-80cc-231de4deb5ac"
      },
      "source": [
        "new_data = pd.DataFrame(index=range(0, 3),columns=['Product', 'RMSE KNN', 'RMSE SVM', 'RMSE LSTM'])\n",
        "new_data['Product'][0] = 'Bitcoin'\n",
        "new_data['Product'][1] = 'Etherum'\n",
        "new_data['Product'][2] = 'XRP'\n",
        "new_data['RMSE KNN'] = rms1[:3]\n",
        "new_data['RMSE SVM'] = rms2[:3]\n",
        "new_data['RMSE LSTM'] = rms3[:3]\n",
        "new_data.head(10)\n"
      ],
      "execution_count": null,
      "outputs": [
        {
          "output_type": "execute_result",
          "data": {
            "text/html": [
              "<div>\n",
              "<style scoped>\n",
              "    .dataframe tbody tr th:only-of-type {\n",
              "        vertical-align: middle;\n",
              "    }\n",
              "\n",
              "    .dataframe tbody tr th {\n",
              "        vertical-align: top;\n",
              "    }\n",
              "\n",
              "    .dataframe thead th {\n",
              "        text-align: right;\n",
              "    }\n",
              "</style>\n",
              "<table border=\"1\" class=\"dataframe\">\n",
              "  <thead>\n",
              "    <tr style=\"text-align: right;\">\n",
              "      <th></th>\n",
              "      <th>Product</th>\n",
              "      <th>RMSE KNN</th>\n",
              "      <th>RMSE SVM</th>\n",
              "      <th>RMSE LSTM</th>\n",
              "    </tr>\n",
              "  </thead>\n",
              "  <tbody>\n",
              "    <tr>\n",
              "      <th>0</th>\n",
              "      <td>Bitcoin</td>\n",
              "      <td>1589.698304</td>\n",
              "      <td>1417.886603</td>\n",
              "      <td>843.515707</td>\n",
              "    </tr>\n",
              "    <tr>\n",
              "      <th>1</th>\n",
              "      <td>Etherum</td>\n",
              "      <td>60.471971</td>\n",
              "      <td>35.915581</td>\n",
              "      <td>10.410943</td>\n",
              "    </tr>\n",
              "    <tr>\n",
              "      <th>2</th>\n",
              "      <td>XRP</td>\n",
              "      <td>5.161496</td>\n",
              "      <td>0.167265</td>\n",
              "      <td>0.438643</td>\n",
              "    </tr>\n",
              "  </tbody>\n",
              "</table>\n",
              "</div>"
            ],
            "text/plain": [
              "   Product     RMSE KNN     RMSE SVM   RMSE LSTM\n",
              "0  Bitcoin  1589.698304  1417.886603  843.515707\n",
              "1  Etherum    60.471971    35.915581   10.410943\n",
              "2      XRP     5.161496     0.167265    0.438643"
            ]
          },
          "metadata": {
            "tags": []
          },
          "execution_count": 197
        }
      ]
    },
    {
      "cell_type": "markdown",
      "metadata": {
        "id": "nO16s170xl3z",
        "colab_type": "text"
      },
      "source": [
        "Show Exectuion Time of Algorithm (In Second)"
      ]
    },
    {
      "cell_type": "code",
      "metadata": {
        "id": "D0lqCJCzxR6Y",
        "colab_type": "code",
        "colab": {
          "base_uri": "https://localhost:8080/",
          "height": 143
        },
        "outputId": "927b898b-9d72-4ea2-c291-bc0e192ca692"
      },
      "source": [
        "new_data = pd.DataFrame(index=range(0, 3),columns=['Product', 'Execution Time of KNN', 'Execution Time of SVM', 'Execution Time of LSTM'])\n",
        "new_data['Product'][0] = 'Bitcoin'\n",
        "new_data['Product'][1] = 'Etherum'\n",
        "new_data['Product'][2] = 'XRP'\n",
        "new_data['Execution Time of KNN'] = time1[:3]\n",
        "new_data['Execution Time of SVM'] = time2[:3]\n",
        "new_data['Execution Time of LSTM'] = time3[:3]\n",
        "new_data.head(10)"
      ],
      "execution_count": null,
      "outputs": [
        {
          "output_type": "execute_result",
          "data": {
            "text/html": [
              "<div>\n",
              "<style scoped>\n",
              "    .dataframe tbody tr th:only-of-type {\n",
              "        vertical-align: middle;\n",
              "    }\n",
              "\n",
              "    .dataframe tbody tr th {\n",
              "        vertical-align: top;\n",
              "    }\n",
              "\n",
              "    .dataframe thead th {\n",
              "        text-align: right;\n",
              "    }\n",
              "</style>\n",
              "<table border=\"1\" class=\"dataframe\">\n",
              "  <thead>\n",
              "    <tr style=\"text-align: right;\">\n",
              "      <th></th>\n",
              "      <th>Product</th>\n",
              "      <th>Execution Time of KNN</th>\n",
              "      <th>Execution Time of SVM</th>\n",
              "      <th>Execution Time of LSTM</th>\n",
              "    </tr>\n",
              "  </thead>\n",
              "  <tbody>\n",
              "    <tr>\n",
              "      <th>0</th>\n",
              "      <td>Bitcoin</td>\n",
              "      <td>0.061323</td>\n",
              "      <td>0.337633</td>\n",
              "      <td>85.622919</td>\n",
              "    </tr>\n",
              "    <tr>\n",
              "      <th>1</th>\n",
              "      <td>Etherum</td>\n",
              "      <td>0.053054</td>\n",
              "      <td>0.131516</td>\n",
              "      <td>62.551328</td>\n",
              "    </tr>\n",
              "    <tr>\n",
              "      <th>2</th>\n",
              "      <td>XRP</td>\n",
              "      <td>0.056815</td>\n",
              "      <td>0.208110</td>\n",
              "      <td>73.891906</td>\n",
              "    </tr>\n",
              "  </tbody>\n",
              "</table>\n",
              "</div>"
            ],
            "text/plain": [
              "   Product  ...  Execution Time of LSTM\n",
              "0  Bitcoin  ...               85.622919\n",
              "1  Etherum  ...               62.551328\n",
              "2      XRP  ...               73.891906\n",
              "\n",
              "[3 rows x 4 columns]"
            ]
          },
          "metadata": {
            "tags": []
          },
          "execution_count": 198
        }
      ]
    }
  ]
}